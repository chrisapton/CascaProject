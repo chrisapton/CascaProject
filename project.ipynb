{
 "cells": [
  {
   "cell_type": "code",
   "execution_count": 142,
   "metadata": {},
   "outputs": [
    {
     "data": {
      "text/plain": [
       "True"
      ]
     },
     "execution_count": 142,
     "metadata": {},
     "output_type": "execute_result"
    }
   ],
   "source": [
    "# Packages\n",
    "import os\n",
    "import cv2\n",
    "import numpy as np\n",
    "import pandas as pd\n",
    "import base64\n",
    "\n",
    "from pdf2image import convert_from_path\n",
    "from openai import OpenAI\n",
    "from dotenv import load_dotenv\n",
    "from IPython.display import Markdown, display\n",
    "\n",
    "# For api keys\n",
    "load_dotenv()"
   ]
  },
  {
   "cell_type": "code",
   "execution_count": 155,
   "metadata": {},
   "outputs": [],
   "source": [
    "def pdf_to_images(pdf_path):\n",
    "    images = convert_from_path(pdf_path, dpi=300)\n",
    "    return images\n",
    "\n",
    "# Preprocess image for better OCR\n",
    "def preprocess_image(image, pdf_path,i):\n",
    "    img = np.array(image)\n",
    "    gray = cv2.cvtColor(img, cv2.COLOR_RGB2GRAY)\n",
    "    thresholded = cv2.adaptiveThreshold(\n",
    "        gray, 255, cv2.ADAPTIVE_THRESH_GAUSSIAN_C, cv2.THRESH_BINARY, 11, 2\n",
    "    )\n",
    "    # Save the preprocessed image and create folders to store them\n",
    "    os.makedirs(f\"./data/{os.path.splitext(pdf_path)[0]}\", exist_ok=True)\n",
    "    cv2.imwrite(f\"./data/{os.path.splitext(pdf_path)[0]}/preprocessed_page_{i+1}.png\", thresholded)\n",
    "\n",
    "folder_path = \"./data/\"\n",
    "pdf_files = [file for file in os.listdir(folder_path) if file.endswith(\".pdf\")]\n",
    "\n",
    "for pdf_path in pdf_files:\n",
    "    images = pdf_to_images(folder_path + pdf_path)\n",
    "\n",
    "    # Preprocess and save image\n",
    "    for i, image in enumerate(images):\n",
    "        preprocess_image(image, pdf_path, i)"
   ]
  },
  {
   "cell_type": "code",
   "execution_count": 145,
   "metadata": {},
   "outputs": [
    {
     "data": {
      "text/markdown": [
       "### Financial Report for Loan Consideration\n",
       "\n",
       "#### Overview\n",
       "\n",
       "This report evaluates the financial health of Bethlehem Home Health Care Agency for the month of October 2017 to assess their eligibility for a business loan. Key aspects reviewed include total monthly deposits and withdrawals, regular expenses, and any indications of outstanding loans.\n",
       "\n",
       "#### Total Monthly Deposits and Withdrawals\n",
       "\n",
       "- **Total Deposits:** $87,684.11\n",
       "- **Total Withdrawals:** $47,024.45\n",
       "\n",
       "The business shows a positive cash flow with deposits significantly exceeding withdrawals. This suggests a stable income stream capable of supporting additional loan repayments.\n",
       "\n",
       "#### Regular and Significant Expenses\n",
       "\n",
       "- **Rent & Utilities:** No specific rent or utilities cheques were evident from the statement, but could be included in other expenses.\n",
       "- **Employee Salaries:** Regular checks, such as the $3,777.34 on Oct 16, likely indicate salary-related expenses.\n",
       "- **Regular Vendor Payments:**\n",
       "  - Payments to Lawrence S. Bracitsky CPA, INC of $1,146.08 on Oct 2 and Oct 10 show recurring costs.\n",
       "  - Checks written to various consultants and service providers such as $2,500 on Oct 11 for \"Activities Therapy Plan Payment.\"\n",
       "\n",
       "#### Outstanding Loans \n",
       "\n",
       "- There is no explicit mention of existing loans in the known transactions. However, $12,000 in transfers on Oct 12 and Oct 16 suggest internal fund movements or possibly payments to another account.\n",
       "\n",
       "#### Additional Observations\n",
       "\n",
       "- The account maintains a healthy daily balance, often above $20,000.\n",
       "- There are regular small charges ($24.95) for service fees, indicating proper financial management with regular banking interactions.\n",
       "- The company seems capable of handling multiple monthly expenses while preserving a positive balance.\n",
       "\n",
       "#### Conclusion\n",
       "\n",
       "Considering the consistent positive cash flow, ability to maintain a substantial ending balance, and lack of evidence for outstanding loans, the Bethlehem Home Health Care Agency appears to be a suitable candidate for a business loan. The financial management indicates prudent spending patterns, with significant attention to maintaining liquidity. Granting the loan would likely pose minimal risk to the lender, provided the company continues its current financial trajectory."
      ],
      "text/plain": [
       "<IPython.core.display.Markdown object>"
      ]
     },
     "metadata": {},
     "output_type": "display_data"
    }
   ],
   "source": [
    "client = OpenAI(\n",
    "    api_key=os.environ['OPENAI_API_KEY'],\n",
    ")\n",
    "\n",
    "def ask_gpt_to_parse_financials():\n",
    "     for j in range(1, 2):\n",
    "\n",
    "        png_files = []\n",
    "        for i in range(1, 11):  # Range from 1 to 10 (inclusive)\n",
    "            png_files.append(f\"preprocessed_page_{i}.png\")\n",
    "\n",
    "        def encode_image(image_path):\n",
    "            with open(image_path, \"rb\") as image_file:\n",
    "                return base64.b64encode(image_file.read()).decode('utf-8')\n",
    "\n",
    "        # Encode the .png files to base64\n",
    "        base64_images_list = []  # List to store the base64 encoded images\n",
    "        for png_file in png_files:\n",
    "            try:\n",
    "                encoded_string = encode_image(png_file)\n",
    "                base64_images_list.append(encoded_string)  # Add to the list\n",
    "            except Exception as e:\n",
    "                print(f\"Error encoding {png_file}: {e}\")  #\n",
    "\n",
    "        messages = [\n",
    "            {\"role\": \"system\", \"content\": \"You are a financial analyst.\"}\n",
    "        ]\n",
    "\n",
    "        # Iterate through the list of base64-encoded images\n",
    "        for j, base64_image in enumerate(base64_images_list, start=1):  # start=1 for proper part numbering\n",
    "            messages.append(\n",
    "                {\n",
    "                    \"role\": \"user\",\n",
    "                    \"content\": [\n",
    "                        {\n",
    "                            \"type\": \"text\",\n",
    "                            \"text\": f\"\"\"\n",
    "                            This is part {j} of the data for the bank statement.\n",
    "                            Go through the financials and write a report on whether we should give them a business loan.\n",
    "                            Find insights on the total monthly deposits and withdrawals. \n",
    "                            Also insights on their big regular bills like rent, employee salary, utilities, etc. \n",
    "                            Also catch if they have any other outstanding loans! But overall just use common sense on if you would give them a loan or not based on how they spend their money.\n",
    "                            \"\"\"\n",
    "                        },\n",
    "                        {\n",
    "                            \"type\": \"image_url\",\n",
    "                            \"image_url\": {\n",
    "                                \"url\": f\"data:image/jpeg;base64,{base64_image}\"\n",
    "                            }\n",
    "                        }\n",
    "                    ]\n",
    "                }\n",
    "            )\n",
    "\n",
    "        # Send the messages to the model\n",
    "        response = client.chat.completions.create(\n",
    "            model=\"gpt-4o\",\n",
    "            messages=messages\n",
    "        )\n",
    "\n",
    "        return response.choices[0].message.content\n",
    "\n",
    "response = ask_gpt_to_parse_financials()\n",
    "display(Markdown(response))"
   ]
  },
  {
   "cell_type": "code",
   "execution_count": null,
   "metadata": {},
   "outputs": [],
   "source": [
    "# TODO: put images in data/<pdf file name>/images\n",
    "# for each images folder, get the response from gpt and store them into a list\n",
    "# put the 4 different results in 4 text boxes\n",
    "# save .ipynb as a pdf as well"
   ]
  },
  {
   "cell_type": "code",
   "execution_count": null,
   "metadata": {},
   "outputs": [],
   "source": []
  }
 ],
 "metadata": {
  "kernelspec": {
   "display_name": "Python 3",
   "language": "python",
   "name": "python3"
  },
  "language_info": {
   "codemirror_mode": {
    "name": "ipython",
    "version": 3
   },
   "file_extension": ".py",
   "mimetype": "text/x-python",
   "name": "python",
   "nbconvert_exporter": "python",
   "pygments_lexer": "ipython3",
   "version": "3.12.0"
  }
 },
 "nbformat": 4,
 "nbformat_minor": 2
}

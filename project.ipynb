{
 "cells": [
  {
   "cell_type": "code",
   "execution_count": 142,
   "metadata": {},
   "outputs": [
    {
     "data": {
      "text/plain": [
       "True"
      ]
     },
     "execution_count": 142,
     "metadata": {},
     "output_type": "execute_result"
    }
   ],
   "source": [
    "# Packages\n",
    "import os\n",
    "import cv2\n",
    "import numpy as np\n",
    "import pandas as pd\n",
    "import base64\n",
    "\n",
    "from pdf2image import convert_from_path\n",
    "from openai import OpenAI\n",
    "from dotenv import load_dotenv\n",
    "from IPython.display import Markdown, display\n",
    "\n",
    "# For api keys\n",
    "load_dotenv()"
   ]
  },
  {
   "cell_type": "code",
   "execution_count": 155,
   "metadata": {},
   "outputs": [],
   "source": [
    "def pdf_to_images(pdf_path):\n",
    "    images = convert_from_path(pdf_path, dpi=300)\n",
    "    return images\n",
    "\n",
    "# Preprocess image for better OCR\n",
    "def preprocess_image(image, pdf_path,i):\n",
    "    img = np.array(image)\n",
    "    gray = cv2.cvtColor(img, cv2.COLOR_RGB2GRAY)\n",
    "    thresholded = cv2.adaptiveThreshold(\n",
    "        gray, 255, cv2.ADAPTIVE_THRESH_GAUSSIAN_C, cv2.THRESH_BINARY, 11, 2\n",
    "    )\n",
    "    # Save the preprocessed image and create folders to store them\n",
    "    os.makedirs(f\"./data/{os.path.splitext(pdf_path)[0]}\", exist_ok=True)\n",
    "    cv2.imwrite(f\"./data/{os.path.splitext(pdf_path)[0]}/preprocessed_page_{i+1}.png\", thresholded)\n",
    "\n",
    "folder_path = \"./data/\"\n",
    "pdf_files = [file for file in os.listdir(folder_path) if file.endswith(\".pdf\")]\n",
    "\n",
    "for pdf_path in pdf_files:\n",
    "    images = pdf_to_images(folder_path + pdf_path)\n",
    "\n",
    "    # Preprocess and save image\n",
    "    for i, image in enumerate(images):\n",
    "        preprocess_image(image, pdf_path, i)"
   ]
  },
  {
   "cell_type": "code",
   "execution_count": 157,
   "metadata": {},
   "outputs": [],
   "source": [
    "client = OpenAI(\n",
    "    api_key=os.environ['OPENAI_API_KEY'],\n",
    ")\n",
    "\n",
    "def ask_gpt_to_parse_financials():\n",
    "    results = []\n",
    "    for pdf_path in pdf_files:\n",
    "        images = pdf_to_images(folder_path + pdf_path)\n",
    "        png_files = []\n",
    "        for i in range(len(images)):\n",
    "            png_files.append(f\"./data/{os.path.splitext(pdf_path)[0]}/preprocessed_page_{i+1}.png\")\n",
    "\n",
    "        def encode_image(image_path):\n",
    "            with open(image_path, \"rb\") as image_file:\n",
    "                return base64.b64encode(image_file.read()).decode('utf-8')\n",
    "\n",
    "        # Encode the .png files to base64\n",
    "        base64_images_list = []  # List to store the base64 encoded images\n",
    "        for png_file in png_files:\n",
    "            try:\n",
    "                encoded_string = encode_image(png_file)\n",
    "                base64_images_list.append(encoded_string)  # Add to the list\n",
    "            except Exception as e:\n",
    "                print(f\"Error encoding {png_file}: {e}\")  #\n",
    "\n",
    "        messages = [\n",
    "            {\"role\": \"system\", \"content\": \"You are a financial analyst.\"}\n",
    "        ]\n",
    "\n",
    "        # Iterate through the list of base64-encoded images\n",
    "        for j, base64_image in enumerate(base64_images_list, start=1):  # start=1 for proper part numbering\n",
    "            messages.append(\n",
    "                {\n",
    "                    \"role\": \"user\",\n",
    "                    \"content\": [\n",
    "                        {\n",
    "                            \"type\": \"text\",\n",
    "                            \"text\": f\"\"\"\n",
    "                            This is part {j} of the data for the bank statement.\n",
    "                            Go through the financials and write a report on whether we should give them a business loan.\n",
    "                            Find insights on the total monthly deposits and withdrawals. \n",
    "                            Also insights on their big regular bills like rent, employee salary, utilities, etc. \n",
    "                            Also catch if they have any other outstanding loans! But overall just use common sense on if you would give them a loan or not based on how they spend their money.\n",
    "                            \"\"\"\n",
    "                        },\n",
    "                        {\n",
    "                            \"type\": \"image_url\",\n",
    "                            \"image_url\": {\n",
    "                                \"url\": f\"data:image/jpeg;base64,{base64_image}\"\n",
    "                            }\n",
    "                        }\n",
    "                    ]\n",
    "                }\n",
    "            )\n",
    "\n",
    "        # Send the messages to the model\n",
    "        response = client.chat.completions.create(\n",
    "            model=\"gpt-4o\",\n",
    "            messages=messages\n",
    "        )\n",
    "        results.append(response.choices[0].message.content)\n",
    "\n",
    "    return results\n",
    "\n",
    "results = ask_gpt_to_parse_financials()"
   ]
  },
  {
   "cell_type": "code",
   "execution_count": 158,
   "metadata": {},
   "outputs": [
    {
     "data": {
      "text/markdown": [
       "**Financial Analysis Report**\n",
       "\n",
       "**Overview:**\n",
       "\n",
       "The financial statement for Bethlehem Home Health Care Agency covers the period from October 2, 2017, to October 31, 2017. It provides detailed insights into the business's cash flow, including deposits, withdrawals, and outstanding checks.\n",
       "\n",
       "**Deposit and Withdrawal Summary:**\n",
       "\n",
       "- **Total Deposits:** $87,684.11\n",
       "- **Total Withdrawals:** $47,024.45\n",
       "- **Card Withdrawals:** $586.27\n",
       "- **Checks Paid:** $30,416.69\n",
       "\n",
       "This results in a net positive cash flow for the month, with ending balance of $20,144.38 from an opening balance of $10,487.68.\n",
       "\n",
       "**Regular Bills and Payments:**\n",
       "\n",
       "1. **Rent:** No specific entries were noted for rent; it might be included in one of the larger check amounts.\n",
       "2. **Employee Salaries:** \n",
       "   - Regular checks to individuals (possible employees such as Judy Drinfeld and others) were noted.\n",
       "3. **Utilities and Other Expenses:**\n",
       "   - Payment to entities like The Plumbing Pro suggests regular maintenance or utilities.\n",
       "   - Withdrawals such as $3,000.00 to vendors suggest operational expenses.\n",
       "4. **Outstanding Loans:**\n",
       "   - No explicit transactions indicate outstanding loans; however, multiple transfers between accounts could imply balancing various financial obligations.\n",
       "\n",
       "**Additional Observations:**\n",
       "\n",
       "- There are significant single transactions, e.g., $6,000.00 at month-end, potentially indicating capital expenses or inter-company transfers.\n",
       "- Regular, large deposits suggest a steady inflow possibly from services or reimbursements.\n",
       "\n",
       "**Recommendation:**\n",
       "\n",
       "Based on the analysis:\n",
       "\n",
       "- The business maintains a positive cash flow with a satisfactory end-month balance.\n",
       "- The nature of transactions indicates regular business operations with no alarming spending patterns.\n",
       "- The agency appears capable of handling its financial obligations, suggesting it is a reasonable candidate for a business loan.\n",
       "\n",
       "**Conclusion:**\n",
       "\n",
       "Given the available information, the company demonstrates responsible financial management, making it suitable for consideration for a business loan, assuming continued positive cash flow trends. Further details on the purpose of the loan and any future financial projections would strengthen the approval decision."
      ],
      "text/plain": [
       "<IPython.core.display.Markdown object>"
      ]
     },
     "metadata": {},
     "output_type": "display_data"
    }
   ],
   "source": [
    "# data_1\n",
    "display(Markdown(results[0]))"
   ]
  },
  {
   "cell_type": "code",
   "execution_count": 159,
   "metadata": {},
   "outputs": [
    {
     "data": {
      "text/markdown": [
       "### Financial Analysis Report\n",
       "\n",
       "#### Overview\n",
       "\n",
       "The bank statement provided spans from September 1, 2019, to November 30, 2019. Here’s an analysis based on the data:\n",
       "\n",
       "#### Total Monthly Deposits and Withdrawals\n",
       "\n",
       "1. **September:**\n",
       "   - **Deposits:**\n",
       "     - Total: > £540 from visible deposits\n",
       "   - **Withdrawals:**\n",
       "     - Regular small debits with significant expenses like £960 on 29 Sep.\n",
       "   \n",
       "2. **October:**\n",
       "   - **Deposits:**\n",
       "     - Significant deposits include £790 and £860, totaling at least £1650 from major entries.\n",
       "   - **Withdrawals:**\n",
       "     - Regular expenses include a £730 cash withdrawal.\n",
       "\n",
       "3. **November:**\n",
       "   - **Deposits:**\n",
       "     - Major deposits include £870 and £960, totaling at least £1830.\n",
       "   - **Withdrawals:**\n",
       "     - Regular debits with transactions like £198 on 22 Nov and £262 on 29 Nov.\n",
       "\n",
       "#### Big Regular Bills\n",
       "\n",
       "- **Rent:** There is no clear transaction labeled as rent.\n",
       "- **Employee Salary:** The payment to \"D ROBERTSON\" could indicate salary (£960).\n",
       "- **Utilities/Other Services:** Smaller frequent debits to various vendors could be utilities or operating expenses.\n",
       "- **Cash Withdrawals:** Several cash transactions suggest ongoing operational cash needs.\n",
       "\n",
       "#### Outstanding Loans\n",
       "\n",
       "There is no explicit transaction indicating loan repayments within this statement.\n",
       "\n",
       "#### Conclusion on Loan Eligibility\n",
       "\n",
       "**Pros:**\n",
       "- **Regular Deposits:** The account has regular and significant deposits, indicating consistent income.\n",
       "- **Active Account:** Regular transactions suggest ongoing business activity.\n",
       "\n",
       "**Cons:**\n",
       "- **Irregular Large Withdrawals:** Occasional large debits could affect liquidity.\n",
       "- **Low Current Balance:** The balance is relatively low (£2062.05), suggesting limited buffer for expenses.\n",
       "\n",
       "**Decision:**\n",
       "Given the inflow consistency but potential cash flow issues due to significant withdrawals and a low end-of-period balance, it would be prudent to evaluate the nature of these large expenditures further. If they are strategic investments or predictable seasonal costs, approving a loan with reasonable terms may be feasible. Additional financial documents would be helpful for a more conclusive decision."
      ],
      "text/plain": [
       "<IPython.core.display.Markdown object>"
      ]
     },
     "metadata": {},
     "output_type": "display_data"
    }
   ],
   "source": [
    "# data_2\n",
    "display(Markdown(results[1]))"
   ]
  },
  {
   "cell_type": "code",
   "execution_count": 160,
   "metadata": {},
   "outputs": [
    {
     "data": {
      "text/markdown": [
       "### Financial Report on Loan Eligibility\n",
       "\n",
       "#### Overview\n",
       "This report evaluates the financial activities of the account holder from October 14, 2017, to January 13, 2018, based on their bank statements. The aim is to assess their eligibility for a business loan by analyzing deposits, withdrawals, and regular expenses.\n",
       "\n",
       "#### Monthly Financial Activity\n",
       "\n",
       "1. **Total Deposits:**\n",
       "   - **Credit**: $3,640.00\n",
       "   - Major credits include regular transfers of $1,000 credited multiple times from an external source.\n",
       "\n",
       "2. **Total Withdrawals:**\n",
       "   - **Debit**: $5,461.86\n",
       "   - Significant debits include payments to various service providers and transfers to other accounts.\n",
       "\n",
       "#### Key Financial Insights\n",
       "\n",
       "1. **Regular Bills:**\n",
       "   - **Jetts Kingsway Fees**: $27.90, multiple times.\n",
       "   - **Health Insurance (HBF)**: $122.25, monthly.\n",
       "   - **Utilities (Telstra)**: $115.00, approximately monthly.\n",
       "   - Consistent internet fees to JESSICA LAING: $40.00, monthly.\n",
       "   - **Insurance (SGIO)**: $56.42, regularly.\n",
       "   - **Tax Payments**: $850.75 in December.\n",
       "   - **Rent Transfers**: $700 transfers, labeled \"Oronsay.\"\n",
       "\n",
       "2. **Account Fees:**\n",
       "   - Monthly account maintenance fee of $4.00.\n",
       "\n",
       "3. **Transfers:**\n",
       "   - Regular transfers of $1,000 credited from CommBank app. This indicates consistent external funding.\n",
       "   - Multiple $700 debit transfers, suggesting a significant ongoing payment.\n",
       "\n",
       "#### Current Financial Standing\n",
       "\n",
       "- **Closing Balance**: $395.43 CR\n",
       "- The account shows monthly deficits, with withdrawals exceeding deposits by $1,821.86 over the period.\n",
       "\n",
       "#### Financial Behavior & Observations\n",
       "\n",
       "- The account holder has consistent influxes of funds, likely external support or business income.\n",
       "- There are regular expenses related to utilities, health insurance, entertainment, and potentially rent.\n",
       "- No evidence of outstanding loans was explicit, though the frequent $700 transfer might indicate ongoing liabilities.\n",
       "- The account is maintained frequently without overdraft, implying financial discipline despite the monthly shortfall.\n",
       "\n",
       "#### Recommendations\n",
       "\n",
       "Given the analysis, while the account holder shows fiscal responsibility by not exceeding their credit limit and making regular payments, their expenditures surpass their income. This ongoing deficit might pose a risk for loan repayment unless there's a plan to increase income or decrease expenses. \n",
       "\n",
       "Without a clear indication of other outstanding loans, they appear to be managing their regular obligations. However, for a positive loan recommendation, it would be prudent to address the income-expenditure discrepancy to ensure the ability to manage additional debt. A detailed look into their business or additional sources of income might provide further insights. \n",
       "\n",
       "Therefore, it is advisable to gather more information about their business operations and liquidity before approving a business loan."
      ],
      "text/plain": [
       "<IPython.core.display.Markdown object>"
      ]
     },
     "metadata": {},
     "output_type": "display_data"
    }
   ],
   "source": [
    "# data_3\n",
    "display(Markdown(results[2]))"
   ]
  },
  {
   "cell_type": "code",
   "execution_count": 161,
   "metadata": {},
   "outputs": [
    {
     "data": {
      "text/markdown": [
       "### Financial Analysis Report\n",
       "\n",
       "**Overview:**\n",
       "The bank statement data provided offers a financial snapshot of the account activities from April 2018 to March 2019. Based on the provided transaction details, this report aims to provide insights into the account holder's financial behavior, regular financial obligations, and the feasibility of approving a business loan.\n",
       "\n",
       "**Monthly Deposits and Withdrawals:**\n",
       "\n",
       "- **Deposits:**\n",
       "  - Regular deposits often occur through IMPS transfers, indicating business income or financial support. Larger deposits are usually between ₹2,000 to ₹6,000.\n",
       "  - Occasional higher deposits (e.g., ₹9,000 on 18-Sep-2018 and ₹8,320 on 18-Sep-2018).\n",
       "\n",
       "- **Withdrawals:**\n",
       "  - Frequent ATM and cash withdrawals between ₹100 and ₹2,000.\n",
       "  - Regular payments to recurring expenses and personal withdrawals.\n",
       "  - Transactions indicate the use of the account for daily expenses, business needs, and personal management.\n",
       "\n",
       "**Regular Financial Obligations:**\n",
       "\n",
       "- **Recurring Bills:**\n",
       "  - Payments to Bajaj Finance, which could indicate an ongoing loan (e.g., ₹1,912 on several transactions).\n",
       "  - Regular payments for medical expenses (several ₹75 to ₹80 transactions) which might indicate medical insurance or medical bills.\n",
       "  - Utility payments, including mobile recharges and DTH services (₹200-₹500 monthly).\n",
       "  - Employee salary payments (e.g., ₹3,410 on 30-Jan-2019), indicating either small business operations or support staff.\n",
       "\n",
       "**Outstanding Loans:**\n",
       "\n",
       "- **Loan Indicators:**\n",
       "  - Regular payments to Bajaj Finance suggest existing financial commitments.\n",
       "  - Several transactions labeled as interest payments could point to other outstanding loans.\n",
       "\n",
       "**Financial Health and Loan Recommendation:**\n",
       "\n",
       "- **Pros:**\n",
       "  - Consistent income through IMPS deposits suggests stable revenue or personal financial support.\n",
       "  - Ability to manage regular financial obligations alongside occasional high-value transactions suggests the account holder has a reasonable level of financial literacy and prioritization.\n",
       "\n",
       "- **Cons:**\n",
       "  - The closing balance tends to be low, often under ₹100, indicating limited liquidity.\n",
       "  - The presence of existing loan payments (e.g., Bajaj Finance) could restrict further borrowing capacity unless income significantly exceeds the debt obligations.\n",
       "\n",
       "**Conclusion:**\n",
       "\n",
       "Given the steady flow of deposits and the account holder's ability to meet existing obligations, they demonstrate a reasonable capacity to handle finances. However, the low average balance and current loan commitments pose a risk for additional lending. Therefore, any loan approval should factor in these aspects, potential for income growth, and the purpose of the requested loan to ensure alignment with the account holder's financial capability.\n",
       "\n",
       "**Recommendation:**\n",
       "\n",
       "- Approve the loan cautiously, setting a cap based on thorough verification of additional income potential and need for capital.\n",
       "- Consider offering financial counseling to improve liquidity and savings.\n",
       "- Regularly monitor loan repayments if approved to mitigate potential default risk."
      ],
      "text/plain": [
       "<IPython.core.display.Markdown object>"
      ]
     },
     "metadata": {},
     "output_type": "display_data"
    }
   ],
   "source": [
    "# data_4\n",
    "display(Markdown(results[3]))"
   ]
  }
 ],
 "metadata": {
  "kernelspec": {
   "display_name": "Python 3",
   "language": "python",
   "name": "python3"
  },
  "language_info": {
   "codemirror_mode": {
    "name": "ipython",
    "version": 3
   },
   "file_extension": ".py",
   "mimetype": "text/x-python",
   "name": "python",
   "nbconvert_exporter": "python",
   "pygments_lexer": "ipython3",
   "version": "3.12.0"
  }
 },
 "nbformat": 4,
 "nbformat_minor": 2
}
